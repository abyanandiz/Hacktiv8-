{
 "cells": [
  {
   "cell_type": "markdown",
   "metadata": {},
   "source": [
    "Abyanandi Zaintama"
   ]
  },
  {
   "cell_type": "markdown",
   "metadata": {},
   "source": [
    "Live Code 1:\n",
    "Kamu adalah seorang data scientist yang bekerja di salah satu perusahaan manufaktur baterai Lithium ion. Tim produksi meminta kamu untuk mengecek apakah baterai yang mereka buat dalam kondisi bagus atau tidak. Sebelum melakukan pengecekan lebih lanjut, kamu diminta untuk menghitung hambatan/resistansi dan Daya setiap detik:\n",
    "\n",
    "R adalah Kapasitas dalam satuan Ohm\n",
    "P adalah Daya dalam Watt\n",
    "I adalah kuat arus dalam satuan Ampere\n",
    "V adalah tegangan dalam satuan Volt\n",
    "\n",
    "Hitung kapasitas baterai tiap waktunya untuk cycle ganjil dan daya baterai tiap waktunya untuk cycle genap dari dataset dengan ketentuan sebagai berikut:\n",
    "\n",
    "Gunakan function untuk menghitung hambatan dan daya\n",
    "Harus menerapkan konsep looping, conditional if, dan pandas query\n"
   ]
  },
  {
   "cell_type": "code",
   "execution_count": 1,
   "metadata": {},
   "outputs": [
    {
     "name": "stdout",
     "output_type": "stream",
     "text": [
      "       time(s)    V_m  Current (A)  Cycle       Cap\n",
      "0            0  4.098        0.997      1  2.840817\n",
      "1            1  4.096        0.998      1  2.840817\n",
      "2            2  4.094        0.999      1  2.840817\n",
      "3            3  4.093        0.998      1  2.840817\n",
      "4            4  4.092        0.999      1  2.840817\n",
      "...        ...    ...          ...    ...       ...\n",
      "90977    90977  2.506        1.002      9  2.770180\n",
      "90978    90978  2.504        1.002      9  2.770180\n",
      "90979    90979  2.502        1.002      9  2.770180\n",
      "90980    90980  2.500        1.002      9  2.770180\n",
      "90981    90981  2.497        1.002      9  2.770180\n",
      "\n",
      "[90982 rows x 5 columns]\n"
     ]
    }
   ],
   "source": [
    "#importing library and datasheet\n",
    "import pandas as pd\n",
    "import numpy as np\n",
    "df = pd.read_excel('NMC1-9.xlsx')\n",
    "print(df)"
   ]
  },
  {
   "cell_type": "code",
   "execution_count": 2,
   "metadata": {},
   "outputs": [
    {
     "data": {
      "text/plain": "time(s)        0.0\nV_m            0.0\nCurrent (A)    0.0\nCycle          0.0\nCap            0.0\ndtype: float64"
     },
     "execution_count": 2,
     "metadata": {},
     "output_type": "execute_result"
    }
   ],
   "source": [
    "df.isnull().sum()/df.shape[0] #Checking null value"
   ]
  },
  {
   "cell_type": "code",
   "execution_count": 14,
   "metadata": {},
   "outputs": [
    {
     "data": {
      "text/html": "<div>\n<style scoped>\n    .dataframe tbody tr th:only-of-type {\n        vertical-align: middle;\n    }\n\n    .dataframe tbody tr th {\n        vertical-align: top;\n    }\n\n    .dataframe thead th {\n        text-align: right;\n    }\n</style>\n<table border=\"1\" class=\"dataframe\">\n  <thead>\n    <tr style=\"text-align: right;\">\n      <th></th>\n      <th>time(s)</th>\n      <th>V_m</th>\n      <th>Current (A)</th>\n      <th>Cycle</th>\n      <th>Cap</th>\n      <th>Resistance</th>\n    </tr>\n  </thead>\n  <tbody>\n    <tr>\n      <th>0</th>\n      <td>0</td>\n      <td>4.098</td>\n      <td>0.997</td>\n      <td>1</td>\n      <td>2.840817</td>\n      <td>4.110331</td>\n    </tr>\n    <tr>\n      <th>1</th>\n      <td>1</td>\n      <td>4.096</td>\n      <td>0.998</td>\n      <td>1</td>\n      <td>2.840817</td>\n      <td>4.104208</td>\n    </tr>\n    <tr>\n      <th>2</th>\n      <td>2</td>\n      <td>4.094</td>\n      <td>0.999</td>\n      <td>1</td>\n      <td>2.840817</td>\n      <td>4.098098</td>\n    </tr>\n    <tr>\n      <th>3</th>\n      <td>3</td>\n      <td>4.093</td>\n      <td>0.998</td>\n      <td>1</td>\n      <td>2.840817</td>\n      <td>4.101202</td>\n    </tr>\n    <tr>\n      <th>4</th>\n      <td>4</td>\n      <td>4.092</td>\n      <td>0.999</td>\n      <td>1</td>\n      <td>2.840817</td>\n      <td>4.096096</td>\n    </tr>\n    <tr>\n      <th>...</th>\n      <td>...</td>\n      <td>...</td>\n      <td>...</td>\n      <td>...</td>\n      <td>...</td>\n      <td>...</td>\n    </tr>\n    <tr>\n      <th>90977</th>\n      <td>90977</td>\n      <td>2.506</td>\n      <td>1.002</td>\n      <td>9</td>\n      <td>2.770180</td>\n      <td>2.500998</td>\n    </tr>\n    <tr>\n      <th>90978</th>\n      <td>90978</td>\n      <td>2.504</td>\n      <td>1.002</td>\n      <td>9</td>\n      <td>2.770180</td>\n      <td>2.499002</td>\n    </tr>\n    <tr>\n      <th>90979</th>\n      <td>90979</td>\n      <td>2.502</td>\n      <td>1.002</td>\n      <td>9</td>\n      <td>2.770180</td>\n      <td>2.497006</td>\n    </tr>\n    <tr>\n      <th>90980</th>\n      <td>90980</td>\n      <td>2.500</td>\n      <td>1.002</td>\n      <td>9</td>\n      <td>2.770180</td>\n      <td>2.495010</td>\n    </tr>\n    <tr>\n      <th>90981</th>\n      <td>90981</td>\n      <td>2.497</td>\n      <td>1.002</td>\n      <td>9</td>\n      <td>2.770180</td>\n      <td>2.492016</td>\n    </tr>\n  </tbody>\n</table>\n<p>90982 rows × 6 columns</p>\n</div>",
      "text/plain": "       time(s)    V_m  Current (A)  Cycle       Cap  Resistance\n0            0  4.098        0.997      1  2.840817    4.110331\n1            1  4.096        0.998      1  2.840817    4.104208\n2            2  4.094        0.999      1  2.840817    4.098098\n3            3  4.093        0.998      1  2.840817    4.101202\n4            4  4.092        0.999      1  2.840817    4.096096\n...        ...    ...          ...    ...       ...         ...\n90977    90977  2.506        1.002      9  2.770180    2.500998\n90978    90978  2.504        1.002      9  2.770180    2.499002\n90979    90979  2.502        1.002      9  2.770180    2.497006\n90980    90980  2.500        1.002      9  2.770180    2.495010\n90981    90981  2.497        1.002      9  2.770180    2.492016\n\n[90982 rows x 6 columns]"
     },
     "execution_count": 14,
     "metadata": {},
     "output_type": "execute_result"
    }
   ],
   "source": [
    "#calculating resistance\n",
    "\n",
    "def resistance(v,i):\n",
    "    resistance = v/i\n",
    "    return resistance\n",
    "\n",
    "df['Resistance'] = resistance(df['V_m'],df['Current (A)'])\n",
    "df"
   ]
  },
  {
   "cell_type": "code",
   "execution_count": 3,
   "metadata": {},
   "outputs": [
    {
     "data": {
      "text/html": "<div>\n<style scoped>\n    .dataframe tbody tr th:only-of-type {\n        vertical-align: middle;\n    }\n\n    .dataframe tbody tr th {\n        vertical-align: top;\n    }\n\n    .dataframe thead th {\n        text-align: right;\n    }\n</style>\n<table border=\"1\" class=\"dataframe\">\n  <thead>\n    <tr style=\"text-align: right;\">\n      <th></th>\n      <th>time(s)</th>\n      <th>V_m</th>\n      <th>Current (A)</th>\n      <th>Cycle</th>\n      <th>Cap</th>\n    </tr>\n  </thead>\n  <tbody>\n    <tr>\n      <th>0</th>\n      <td>0</td>\n      <td>4.098</td>\n      <td>0.997</td>\n      <td>1</td>\n      <td>2.840817</td>\n    </tr>\n    <tr>\n      <th>1</th>\n      <td>1</td>\n      <td>4.096</td>\n      <td>0.998</td>\n      <td>1</td>\n      <td>2.840817</td>\n    </tr>\n    <tr>\n      <th>2</th>\n      <td>2</td>\n      <td>4.094</td>\n      <td>0.999</td>\n      <td>1</td>\n      <td>2.840817</td>\n    </tr>\n    <tr>\n      <th>3</th>\n      <td>3</td>\n      <td>4.093</td>\n      <td>0.998</td>\n      <td>1</td>\n      <td>2.840817</td>\n    </tr>\n    <tr>\n      <th>4</th>\n      <td>4</td>\n      <td>4.092</td>\n      <td>0.999</td>\n      <td>1</td>\n      <td>2.840817</td>\n    </tr>\n    <tr>\n      <th>...</th>\n      <td>...</td>\n      <td>...</td>\n      <td>...</td>\n      <td>...</td>\n      <td>...</td>\n    </tr>\n    <tr>\n      <th>90977</th>\n      <td>90977</td>\n      <td>2.506</td>\n      <td>1.002</td>\n      <td>9</td>\n      <td>2.770180</td>\n    </tr>\n    <tr>\n      <th>90978</th>\n      <td>90978</td>\n      <td>2.504</td>\n      <td>1.002</td>\n      <td>9</td>\n      <td>2.770180</td>\n    </tr>\n    <tr>\n      <th>90979</th>\n      <td>90979</td>\n      <td>2.502</td>\n      <td>1.002</td>\n      <td>9</td>\n      <td>2.770180</td>\n    </tr>\n    <tr>\n      <th>90980</th>\n      <td>90980</td>\n      <td>2.500</td>\n      <td>1.002</td>\n      <td>9</td>\n      <td>2.770180</td>\n    </tr>\n    <tr>\n      <th>90981</th>\n      <td>90981</td>\n      <td>2.497</td>\n      <td>1.002</td>\n      <td>9</td>\n      <td>2.770180</td>\n    </tr>\n  </tbody>\n</table>\n<p>50540 rows × 5 columns</p>\n</div>",
      "text/plain": "       time(s)    V_m  Current (A)  Cycle       Cap\n0            0  4.098        0.997      1  2.840817\n1            1  4.096        0.998      1  2.840817\n2            2  4.094        0.999      1  2.840817\n3            3  4.093        0.998      1  2.840817\n4            4  4.092        0.999      1  2.840817\n...        ...    ...          ...    ...       ...\n90977    90977  2.506        1.002      9  2.770180\n90978    90978  2.504        1.002      9  2.770180\n90979    90979  2.502        1.002      9  2.770180\n90980    90980  2.500        1.002      9  2.770180\n90981    90981  2.497        1.002      9  2.770180\n\n[50540 rows x 5 columns]"
     },
     "execution_count": 3,
     "metadata": {},
     "output_type": "execute_result"
    }
   ],
   "source": [
    "#Filtering odd and even cycle\n",
    "Cycle_odd = df[df.Cycle % 2 == 0]\n",
    "Cycle_even = df[df.Cycle % 2 == 1] \n",
    "\n",
    "Cycle_even\n"
   ]
  },
  {
   "cell_type": "code",
   "execution_count": 4,
   "metadata": {},
   "outputs": [
    {
     "data": {
      "text/html": "<div>\n<style scoped>\n    .dataframe tbody tr th:only-of-type {\n        vertical-align: middle;\n    }\n\n    .dataframe tbody tr th {\n        vertical-align: top;\n    }\n\n    .dataframe thead th {\n        text-align: right;\n    }\n</style>\n<table border=\"1\" class=\"dataframe\">\n  <thead>\n    <tr style=\"text-align: right;\">\n      <th></th>\n      <th>time(s)</th>\n      <th>V_m</th>\n      <th>Current (A)</th>\n      <th>Cycle</th>\n      <th>Cap</th>\n    </tr>\n  </thead>\n  <tbody>\n    <tr>\n      <th>10237</th>\n      <td>10237</td>\n      <td>4.111</td>\n      <td>0.993</td>\n      <td>2</td>\n      <td>2.833465</td>\n    </tr>\n    <tr>\n      <th>10238</th>\n      <td>10238</td>\n      <td>4.110</td>\n      <td>0.995</td>\n      <td>2</td>\n      <td>2.833465</td>\n    </tr>\n    <tr>\n      <th>10239</th>\n      <td>10239</td>\n      <td>4.108</td>\n      <td>0.998</td>\n      <td>2</td>\n      <td>2.833465</td>\n    </tr>\n    <tr>\n      <th>10240</th>\n      <td>10240</td>\n      <td>4.107</td>\n      <td>0.999</td>\n      <td>2</td>\n      <td>2.833465</td>\n    </tr>\n    <tr>\n      <th>10241</th>\n      <td>10241</td>\n      <td>4.107</td>\n      <td>1.001</td>\n      <td>2</td>\n      <td>2.833465</td>\n    </tr>\n    <tr>\n      <th>...</th>\n      <td>...</td>\n      <td>...</td>\n      <td>...</td>\n      <td>...</td>\n      <td>...</td>\n    </tr>\n    <tr>\n      <th>80997</th>\n      <td>80997</td>\n      <td>2.508</td>\n      <td>1.000</td>\n      <td>8</td>\n      <td>2.783342</td>\n    </tr>\n    <tr>\n      <th>80998</th>\n      <td>80998</td>\n      <td>2.505</td>\n      <td>0.999</td>\n      <td>8</td>\n      <td>2.783342</td>\n    </tr>\n    <tr>\n      <th>80999</th>\n      <td>80999</td>\n      <td>2.503</td>\n      <td>0.999</td>\n      <td>8</td>\n      <td>2.783342</td>\n    </tr>\n    <tr>\n      <th>81000</th>\n      <td>81000</td>\n      <td>2.501</td>\n      <td>0.999</td>\n      <td>8</td>\n      <td>2.783342</td>\n    </tr>\n    <tr>\n      <th>81001</th>\n      <td>81001</td>\n      <td>2.499</td>\n      <td>1.000</td>\n      <td>8</td>\n      <td>2.783342</td>\n    </tr>\n  </tbody>\n</table>\n<p>40442 rows × 5 columns</p>\n</div>",
      "text/plain": "       time(s)    V_m  Current (A)  Cycle       Cap\n10237    10237  4.111        0.993      2  2.833465\n10238    10238  4.110        0.995      2  2.833465\n10239    10239  4.108        0.998      2  2.833465\n10240    10240  4.107        0.999      2  2.833465\n10241    10241  4.107        1.001      2  2.833465\n...        ...    ...          ...    ...       ...\n80997    80997  2.508        1.000      8  2.783342\n80998    80998  2.505        0.999      8  2.783342\n80999    80999  2.503        0.999      8  2.783342\n81000    81000  2.501        0.999      8  2.783342\n81001    81001  2.499        1.000      8  2.783342\n\n[40442 rows x 5 columns]"
     },
     "execution_count": 4,
     "metadata": {},
     "output_type": "execute_result"
    }
   ],
   "source": [
    "Cycle_odd"
   ]
  },
  {
   "cell_type": "code",
   "execution_count": 15,
   "metadata": {},
   "outputs": [
    {
     "name": "stderr",
     "output_type": "stream",
     "text": [
      "<ipython-input-15-ded7e2c9af97>:6: SettingWithCopyWarning: \n",
      "A value is trying to be set on a copy of a slice from a DataFrame.\n",
      "Try using .loc[row_indexer,col_indexer] = value instead\n",
      "\n",
      "See the caveats in the documentation: https://pandas.pydata.org/pandas-docs/stable/user_guide/indexing.html#returning-a-view-versus-a-copy\n",
      "  Power_even ['Power (W)'] = power(Power_even['V_m'],Power_even['Current (A)'])\n"
     ]
    },
    {
     "data": {
      "text/html": "<div>\n<style scoped>\n    .dataframe tbody tr th:only-of-type {\n        vertical-align: middle;\n    }\n\n    .dataframe tbody tr th {\n        vertical-align: top;\n    }\n\n    .dataframe thead th {\n        text-align: right;\n    }\n</style>\n<table border=\"1\" class=\"dataframe\">\n  <thead>\n    <tr style=\"text-align: right;\">\n      <th></th>\n      <th>V_m</th>\n      <th>Current (A)</th>\n      <th>Power (W)</th>\n    </tr>\n  </thead>\n  <tbody>\n    <tr>\n      <th>0</th>\n      <td>4.098</td>\n      <td>0.997</td>\n      <td>4.085706</td>\n    </tr>\n    <tr>\n      <th>1</th>\n      <td>4.096</td>\n      <td>0.998</td>\n      <td>4.087808</td>\n    </tr>\n    <tr>\n      <th>2</th>\n      <td>4.094</td>\n      <td>0.999</td>\n      <td>4.089906</td>\n    </tr>\n    <tr>\n      <th>3</th>\n      <td>4.093</td>\n      <td>0.998</td>\n      <td>4.084814</td>\n    </tr>\n    <tr>\n      <th>4</th>\n      <td>4.092</td>\n      <td>0.999</td>\n      <td>4.087908</td>\n    </tr>\n  </tbody>\n</table>\n</div>",
      "text/plain": "     V_m  Current (A)  Power (W)\n0  4.098        0.997   4.085706\n1  4.096        0.998   4.087808\n2  4.094        0.999   4.089906\n3  4.093        0.998   4.084814\n4  4.092        0.999   4.087908"
     },
     "execution_count": 15,
     "metadata": {},
     "output_type": "execute_result"
    }
   ],
   "source": [
    "# Calculating power on even cycle\n",
    "def power (v,i): #Function for power\n",
    "    power = v*i\n",
    "    return power\n",
    "\n",
    "Power_even = Cycle_even[['V_m','Current (A)']]\n",
    "Power_even ['Power (W)'] = power(Power_even['V_m'],Power_even['Current (A)'])\n",
    "Power_even.head()"
   ]
  },
  {
   "cell_type": "code",
   "execution_count": 19,
   "metadata": {},
   "outputs": [
    {
     "data": {
      "text/html": "<div>\n<style scoped>\n    .dataframe tbody tr th:only-of-type {\n        vertical-align: middle;\n    }\n\n    .dataframe tbody tr th {\n        vertical-align: top;\n    }\n\n    .dataframe thead th {\n        text-align: right;\n    }\n</style>\n<table border=\"1\" class=\"dataframe\">\n  <thead>\n    <tr style=\"text-align: right;\">\n      <th></th>\n      <th>time(s)</th>\n      <th>V_m</th>\n      <th>Current (A)</th>\n      <th>Cycle</th>\n      <th>Cap</th>\n    </tr>\n  </thead>\n  <tbody>\n    <tr>\n      <th>10237</th>\n      <td>10237</td>\n      <td>4.111</td>\n      <td>0.993</td>\n      <td>2</td>\n      <td>2.833465</td>\n    </tr>\n    <tr>\n      <th>10238</th>\n      <td>10238</td>\n      <td>4.110</td>\n      <td>0.995</td>\n      <td>2</td>\n      <td>2.833465</td>\n    </tr>\n    <tr>\n      <th>10239</th>\n      <td>10239</td>\n      <td>4.108</td>\n      <td>0.998</td>\n      <td>2</td>\n      <td>2.833465</td>\n    </tr>\n    <tr>\n      <th>10240</th>\n      <td>10240</td>\n      <td>4.107</td>\n      <td>0.999</td>\n      <td>2</td>\n      <td>2.833465</td>\n    </tr>\n    <tr>\n      <th>10241</th>\n      <td>10241</td>\n      <td>4.107</td>\n      <td>1.001</td>\n      <td>2</td>\n      <td>2.833465</td>\n    </tr>\n    <tr>\n      <th>...</th>\n      <td>...</td>\n      <td>...</td>\n      <td>...</td>\n      <td>...</td>\n      <td>...</td>\n    </tr>\n    <tr>\n      <th>80997</th>\n      <td>80997</td>\n      <td>2.508</td>\n      <td>1.000</td>\n      <td>8</td>\n      <td>2.783342</td>\n    </tr>\n    <tr>\n      <th>80998</th>\n      <td>80998</td>\n      <td>2.505</td>\n      <td>0.999</td>\n      <td>8</td>\n      <td>2.783342</td>\n    </tr>\n    <tr>\n      <th>80999</th>\n      <td>80999</td>\n      <td>2.503</td>\n      <td>0.999</td>\n      <td>8</td>\n      <td>2.783342</td>\n    </tr>\n    <tr>\n      <th>81000</th>\n      <td>81000</td>\n      <td>2.501</td>\n      <td>0.999</td>\n      <td>8</td>\n      <td>2.783342</td>\n    </tr>\n    <tr>\n      <th>81001</th>\n      <td>81001</td>\n      <td>2.499</td>\n      <td>1.000</td>\n      <td>8</td>\n      <td>2.783342</td>\n    </tr>\n  </tbody>\n</table>\n<p>40442 rows × 5 columns</p>\n</div>",
      "text/plain": "       time(s)    V_m  Current (A)  Cycle       Cap\n10237    10237  4.111        0.993      2  2.833465\n10238    10238  4.110        0.995      2  2.833465\n10239    10239  4.108        0.998      2  2.833465\n10240    10240  4.107        0.999      2  2.833465\n10241    10241  4.107        1.001      2  2.833465\n...        ...    ...          ...    ...       ...\n80997    80997  2.508        1.000      8  2.783342\n80998    80998  2.505        0.999      8  2.783342\n80999    80999  2.503        0.999      8  2.783342\n81000    81000  2.501        0.999      8  2.783342\n81001    81001  2.499        1.000      8  2.783342\n\n[40442 rows x 5 columns]"
     },
     "execution_count": 19,
     "metadata": {},
     "output_type": "execute_result"
    }
   ],
   "source": [
    "Cycle_odd"
   ]
  },
  {
   "cell_type": "code",
   "execution_count": 6,
   "metadata": {},
   "outputs": [
    {
     "name": "stderr",
     "output_type": "stream",
     "text": [
      "<ipython-input-6-b5a479149d70>:2: SettingWithCopyWarning: \n",
      "A value is trying to be set on a copy of a slice from a DataFrame.\n",
      "Try using .loc[row_indexer,col_indexer] = value instead\n",
      "\n",
      "See the caveats in the documentation: https://pandas.pydata.org/pandas-docs/stable/user_guide/indexing.html#returning-a-view-versus-a-copy\n",
      "  Resistance_odd ['Resistance'] = Resistance_odd['V_m'] / Resistance_odd['Current (A)']\n"
     ]
    },
    {
     "data": {
      "text/html": "<div>\n<style scoped>\n    .dataframe tbody tr th:only-of-type {\n        vertical-align: middle;\n    }\n\n    .dataframe tbody tr th {\n        vertical-align: top;\n    }\n\n    .dataframe thead th {\n        text-align: right;\n    }\n</style>\n<table border=\"1\" class=\"dataframe\">\n  <thead>\n    <tr style=\"text-align: right;\">\n      <th></th>\n      <th>V_m</th>\n      <th>Current (A)</th>\n      <th>Resistance</th>\n    </tr>\n  </thead>\n  <tbody>\n    <tr>\n      <th>10237</th>\n      <td>4.111</td>\n      <td>0.993</td>\n      <td>4.139980</td>\n    </tr>\n    <tr>\n      <th>10238</th>\n      <td>4.110</td>\n      <td>0.995</td>\n      <td>4.130653</td>\n    </tr>\n    <tr>\n      <th>10239</th>\n      <td>4.108</td>\n      <td>0.998</td>\n      <td>4.116232</td>\n    </tr>\n    <tr>\n      <th>10240</th>\n      <td>4.107</td>\n      <td>0.999</td>\n      <td>4.111111</td>\n    </tr>\n    <tr>\n      <th>10241</th>\n      <td>4.107</td>\n      <td>1.001</td>\n      <td>4.102897</td>\n    </tr>\n  </tbody>\n</table>\n</div>",
      "text/plain": "         V_m  Current (A)  Resistance\n10237  4.111        0.993    4.139980\n10238  4.110        0.995    4.130653\n10239  4.108        0.998    4.116232\n10240  4.107        0.999    4.111111\n10241  4.107        1.001    4.102897"
     },
     "execution_count": 6,
     "metadata": {},
     "output_type": "execute_result"
    }
   ],
   "source": [
    "# Calculating battery capacity"
   ]
  },
  {
   "cell_type": "code",
   "execution_count": null,
   "metadata": {},
   "outputs": [],
   "source": []
  },
  {
   "cell_type": "code",
   "execution_count": null,
   "metadata": {},
   "outputs": [],
   "source": []
  }
 ],
 "metadata": {
  "kernelspec": {
   "display_name": "Python 3.8.5 64-bit ('base': conda)",
   "name": "python385jvsc74a57bd0d7922d892cb88cdc629b5677e4250778b737c7382199783ededa5910bf32d7d7"
  },
  "language_info": {
   "name": "python",
   "version": ""
  },
  "metadata": {
   "interpreter": {
    "hash": "d7922d892cb88cdc629b5677e4250778b737c7382199783ededa5910bf32d7d7"
   }
  },
  "orig_nbformat": 2
 },
 "nbformat": 4,
 "nbformat_minor": 2
}