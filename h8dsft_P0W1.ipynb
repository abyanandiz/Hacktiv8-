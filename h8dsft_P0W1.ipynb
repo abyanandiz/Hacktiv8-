{
 "cells": [
  {
   "cell_type": "markdown",
   "metadata": {},
   "source": [
    "Abyanandi Zaintama"
   ]
  },
  {
   "cell_type": "markdown",
   "metadata": {},
   "source": [
    "The data set that we analysis this time is Pokemon stat. There are data about each pokemon name, type, total, HP, attack, defense, Sp. Atk, Sp. Def, Speed, Generation, and Legendary type with boolean data dtype. We will compare the 3 types of type 1 pokemon with the most numbers based on the legendary category that has the greatest attack value"
   ]
  },
  {
   "cell_type": "code",
   "execution_count": null,
   "metadata": {},
   "outputs": [],
   "source": [
    "import pandas as pd\n",
    "import numpy as np\n",
    "import matplotlib.pyplot as plt\n",
    "import seaborn as sns\n",
    "%matplotlib inline\n",
    "plt.style.use('fivethirtyeight')\n",
    "df=pd.read_csv('Pokemon.csv')\n",
    "df.columns"
   ]
  },
  {
   "cell_type": "code",
   "execution_count": null,
   "metadata": {},
   "outputs": [],
   "source": [
    "df.info()"
   ]
  },
  {
   "cell_type": "code",
   "execution_count": null,
   "metadata": {},
   "outputs": [],
   "source": [
    "df.head(10)"
   ]
  },
  {
   "cell_type": "code",
   "execution_count": null,
   "metadata": {},
   "outputs": [],
   "source": [
    "df.isnull().sum()/df.shape[0]"
   ]
  },
  {
   "cell_type": "markdown",
   "metadata": {},
   "source": [
    "From the table, Type 2 columns have 48.25 % of null values. Meaning 48.25% Pokemon just have 1 Type, and the 51.75 % others are multi-type pokemon"
   ]
  },
  {
   "cell_type": "code",
   "execution_count": null,
   "metadata": {},
   "outputs": [],
   "source": [
    "def filltype(): #method to fill the null values of type 2 with type 1 as the pokemon might only have one type instead of ddropping the null values we can just replace them with the primary type of the pokemon\n",
    "    df['Type 2'].fillna(df['Type 1'],inplace = True)\n",
    "filltype()\n",
    "df.info()\n",
    "df.isnull().sum()"
   ]
  },
  {
   "cell_type": "code",
   "execution_count": null,
   "metadata": {},
   "outputs": [],
   "source": [
    "#Calculating legendary value in data set\n",
    "df['Legendary'].value_counts()"
   ]
  },
  {
   "cell_type": "code",
   "execution_count": null,
   "metadata": {},
   "outputs": [],
   "source": [
    "#Make dataframe that contain legendary pokemon\n",
    "Legendary = df[df['Legendary']==True]\n",
    "Legendary\n",
    "#Count type 1 pokemon from Legendary data frame\n",
    "Legendary['Type 1'].value_counts()"
   ]
  },
  {
   "cell_type": "code",
   "execution_count": null,
   "metadata": {},
   "outputs": [],
   "source": [
    "#Plotting type 1 Legendary data frame\n",
    "Legendary['Type 1'].value_counts().plot(kind='bar')"
   ]
  },
  {
   "cell_type": "markdown",
   "metadata": {},
   "source": [
    "From the bar graph, 3 most type 1 legendary Pokemon are respectively, Psychic, Dragon, and Fire. Then, we filter the 3 type 1 pokemon that has the most attack in each type"
   ]
  },
  {
   "cell_type": "code",
   "execution_count": null,
   "metadata": {},
   "outputs": [],
   "source": [
    "#Psychic type\n",
    "Psychic_legend=Legendary.loc[Legendary['Type 1']=='Psychic']\n",
    "Psychic_legend['Attack'].max()\n"
   ]
  },
  {
   "cell_type": "code",
   "execution_count": null,
   "metadata": {},
   "outputs": [],
   "source": [
    "Psychic = Psychic_legend.loc[(Psychic_legend['Attack']>=190)]\n",
    "Psychic"
   ]
  },
  {
   "cell_type": "code",
   "execution_count": null,
   "metadata": {},
   "outputs": [],
   "source": [
    "#Dragon type\n",
    "Dragon_legend = Legendary.loc[Legendary['Type 1']=='Dragon']\n",
    "Dragon_legend['Attack'].max()"
   ]
  },
  {
   "cell_type": "code",
   "execution_count": null,
   "metadata": {},
   "outputs": [],
   "source": [
    "Dragon = Dragon_legend.loc[(Dragon_legend['Attack']>=180)]\n",
    "Dragon"
   ]
  },
  {
   "cell_type": "code",
   "execution_count": null,
   "metadata": {},
   "outputs": [],
   "source": [
    "#Fire type\n",
    "Fire_legend = Legendary.loc[Legendary['Type 1']=='Fire']\n",
    "Fire_legend['Attack'].max()"
   ]
  },
  {
   "cell_type": "code",
   "execution_count": null,
   "metadata": {},
   "outputs": [],
   "source": [
    "Fire = Fire_legend.loc[(Fire_legend['Attack']>=130)]\n",
    "Fire\n"
   ]
  },
  {
   "cell_type": "code",
   "execution_count": null,
   "metadata": {},
   "outputs": [],
   "source": [
    "frames = [Psychic,Dragon,Fire]\n",
    "result = pd.concat(frames)\n",
    "result"
   ]
  },
  {
   "cell_type": "code",
   "execution_count": null,
   "metadata": {},
   "outputs": [],
   "source": [
    "#Dropping columns except Name, Type 1, Attack\n",
    "result_drop=result.drop(['Type 2','Total','HP','Defense','Sp. Atk','Sp. Def','Speed','Generation','Legendary'], axis=1)\n",
    "result_drop"
   ]
  },
  {
   "cell_type": "markdown",
   "metadata": {},
   "source": [
    "From the table above, we can draw conclusions. That the most 3 types 1 legendary pokemon with the greatest Attack value, in order are:\n",
    "1. Mega Mewtwo X (Psychic type) with an attack value of 190\n",
    "2. Mega Rayquaza (Dragon type) with an attack value of 180\n",
    "3. Ho-oh(Fire type) with attack value of 130"
   ]
  }
 ],
 "metadata": {
  "kernelspec": {
   "display_name": "Python 3.8.5 64-bit ('base': conda)",
   "name": "python385jvsc74a57bd0d7922d892cb88cdc629b5677e4250778b737c7382199783ededa5910bf32d7d7"
  },
  "language_info": {
   "codemirror_mode": {
    "name": "ipython",
    "version": 3
   },
   "file_extension": ".py",
   "mimetype": "text/x-python",
   "name": "python",
   "nbconvert_exporter": "python",
   "pygments_lexer": "ipython3",
   "version": "3.8.5"
  },
  "metadata": {
   "interpreter": {
    "hash": "d7922d892cb88cdc629b5677e4250778b737c7382199783ededa5910bf32d7d7"
   }
  },
  "orig_nbformat": 2
 },
 "nbformat": 4,
 "nbformat_minor": 2
}