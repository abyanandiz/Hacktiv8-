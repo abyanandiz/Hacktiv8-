{
 "cells": [
  {
   "cell_type": "markdown",
   "metadata": {},
   "source": [
    "Temperature conversion function (Celcius, Kelvin, Farenheit)"
   ]
  },
  {
   "cell_type": "code",
   "execution_count": 3,
   "metadata": {},
   "outputs": [],
   "source": [
    "def Celcius(degree):\n",
    "    Celcius_Kelvin = float(degree+273)\n",
    "    Celcius_Fahrenheit = float((9 * degree) / 5 + 32)\n",
    "    print ('Input Temperature: ', temp)\n",
    "    print ('The temperature in Kelvin: ', Celcius_Kelvin, 'degrees')\n",
    "    print ('The temperature in Fahrenheit: ', Celcius_Fahrenheit, 'degrees')\n",
    "\n",
    "def Fahrenheit(degree):\n",
    "    Fahrenheit_Celcius = float((degree - 32) * 5 / 9)\n",
    "    Fahrenheit_Kelvin = float(Fahrenheit_Celcius + 273)\n",
    "    print ('Input Temperature: ', temp)\n",
    "    print ('The temperature in Celcius: ', Fahrenheit_Celcius, 'degrees')\n",
    "    print ('The temperature in Kelvin: ', Fahrenheit_Kelvin, 'degrees')\n",
    "\n",
    "def Kelvin(degree):\n",
    "    Kelvin_Celcius = float(degree+273)\n",
    "    Kelvin_Fahrenheit = float((9 * Kelvin_Celcius) / 5 + 32)\n",
    "    print ('Input Temperature: ', temp)\n",
    "    print ('The temperature in Celcius: ', Kelvin_Celcius, 'degrees')\n",
    "    print ('The temperature in Fahrenheit: ', Kelvin_Fahrenheit, 'degrees')\n",
    "\n",
    "\n",
    "temp = input(\"Input the  temperature you like to convert? (e.g., 45F, 102C, 272K etc.) : \")\n",
    "degree = int(temp[:-1])\n",
    "i_convention = temp[-1]\n",
    "\n",
    "if i_convention.upper() == \"C\":\n",
    "    Celcius(degree)\n",
    "elif i_convention.upper() == \"F\":\n",
    "    Fahrenheit(degree)\n",
    "elif i_convention.upper() == \"K\":\n",
    "    Kelvin(degree)\n",
    "else:\n",
    "    print(\"Input proper value.\")\n",
    "    quit()"
   ]
  }
 ],
 "metadata": {
  "kernelspec": {
   "display_name": "Python 3.8.5 64-bit ('base': conda)",
   "name": "python385jvsc74a57bd0d7922d892cb88cdc629b5677e4250778b737c7382199783ededa5910bf32d7d7"
  },
  "language_info": {
   "name": "python",
   "version": ""
  },
  "metadata": {
   "interpreter": {
    "hash": "d7922d892cb88cdc629b5677e4250778b737c7382199783ededa5910bf32d7d7"
   }
  }
 },
 "nbformat": 4,
 "nbformat_minor": 4
}